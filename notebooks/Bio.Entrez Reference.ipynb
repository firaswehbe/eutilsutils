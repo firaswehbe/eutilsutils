{
 "metadata": {
  "name": "",
  "signature": "sha256:b9ea036ef49a4d7e615627ec42047bfc0b6498210fd23a282dccc9ad7d9f836a"
 },
 "nbformat": 3,
 "nbformat_minor": 0,
 "worksheets": [
  {
   "cells": [
    {
     "cell_type": "heading",
     "level": 1,
     "metadata": {},
     "source": [
      "General Description"
     ]
    },
    {
     "cell_type": "markdown",
     "metadata": {},
     "source": [
      "The `Bio.Entrez` module functionality maps well to the E-Utils programming utilities for interacting with the Entrez system which itself is interface for interacting with the various NCBI databases. \n",
      "\n",
      "Inspecting this module, gives a good understanding of how E-Utils work. I will focus on E-utils for the PubMed database."
     ]
    },
    {
     "cell_type": "code",
     "collapsed": false,
     "input": [
      "from Bio import Entrez"
     ],
     "language": "python",
     "metadata": {},
     "outputs": [],
     "prompt_number": 3
    },
    {
     "cell_type": "heading",
     "level": 2,
     "metadata": {},
     "source": [
      "Variables"
     ]
    },
    {
     "cell_type": "markdown",
     "metadata": {},
     "source": [
      "`Bio.Entrez` requires that you set two variables: `email` and `tool`. The eUtils API doesn't like it when you hit it more than 3 times per second. ([See here.](http://www.ncbi.nlm.nih.gov/books/NBK25497/#chapter2.Usage_Guidelines_and_Requiremen)) You can get blocked if you do it more often. To ensure you're not blocked, announce yourself to the API by including your email and tool variables in every request. `Bio.Entrez` (the python module) would include these variable for you in the subsequent requsts to E-Utils. You would provide them to `Bio.Entrez` as follows:"
     ]
    },
    {
     "cell_type": "code",
     "collapsed": false,
     "input": [
      "Entrez.email = 'firas.wehbe@vanderbilt.edu'\n",
      "Entrez.tool = 'BioPython Entrez Demo'"
     ],
     "language": "python",
     "metadata": {},
     "outputs": [],
     "prompt_number": 5
    },
    {
     "cell_type": "heading",
     "level": 2,
     "metadata": {},
     "source": [
      "Methods"
     ]
    },
    {
     "cell_type": "code",
     "collapsed": false,
     "input": [],
     "language": "python",
     "metadata": {},
     "outputs": []
    }
   ],
   "metadata": {}
  }
 ]
}