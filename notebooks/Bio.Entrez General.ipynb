{
 "metadata": {
  "name": "",
  "signature": "sha256:927e2df8bba88f3ee5c62c019f763ec24495a090f0e580bab41bd35eb5b33ea3"
 },
 "nbformat": 3,
 "nbformat_minor": 0,
 "worksheets": [
  {
   "cells": [
    {
     "cell_type": "heading",
     "level": 1,
     "metadata": {},
     "source": [
      "General Description"
     ]
    },
    {
     "cell_type": "markdown",
     "metadata": {},
     "source": [
      "The `Bio.Entrez` module functionality maps well to the E-Utils programming utilities for interacting with the Entrez system which itself is interface for interacting with the various NCBI databases. Inspecting this module, gives a good understanding of how E-Utils work. I will focus on E-utils for the PubMed database."
     ]
    },
    {
     "cell_type": "code",
     "collapsed": false,
     "input": [
      "from Bio import Entrez"
     ],
     "language": "python",
     "metadata": {},
     "outputs": [],
     "prompt_number": 1
    },
    {
     "cell_type": "heading",
     "level": 2,
     "metadata": {},
     "source": [
      "Variables"
     ]
    },
    {
     "cell_type": "markdown",
     "metadata": {},
     "source": [
      "`Bio.Entrez` requires that you set two variables: `email` and `tool`. The eUtils API doesn't like it when you hit it more than 3 times per second. ([See here.](http://www.ncbi.nlm.nih.gov/books/NBK25497/#chapter2.Usage_Guidelines_and_Requiremen)) You can get blocked if you do it more often. To ensure you're not blocked, announce yourself to the API by including your email and tool variables in every request. `Bio.Entrez` (the python module) would include these variable for you in the subsequent requsts to E-Utils. You would provide them to `Bio.Entrez` as follows:"
     ]
    },
    {
     "cell_type": "code",
     "collapsed": false,
     "input": [
      "Entrez.email = 'firas.wehbe@vanderbilt.edu'\n",
      "Entrez.tool = 'BioPython Entrez Demo'"
     ],
     "language": "python",
     "metadata": {},
     "outputs": [],
     "prompt_number": 2
    },
    {
     "cell_type": "heading",
     "level": 2,
     "metadata": {},
     "source": [
      "Methods"
     ]
    },
    {
     "cell_type": "heading",
     "level": 3,
     "metadata": {},
     "source": [
      "EInfo"
     ]
    },
    {
     "cell_type": "markdown",
     "metadata": {},
     "source": [
      "EInfo is a tool for giving you information about the Entrez databases. First check out this example of how in general `Bio.Entrez` works to handle returned results (hint: they are returned as a stream that you can parse userself using the `.read()` method or it would parse it for you using the `Bio.Entrez.read()` method."
     ]
    },
    {
     "cell_type": "code",
     "collapsed": false,
     "input": [
      "info_handler = Entrez.einfo()\n",
      "# If you type info_handler.read() you can see the returned XML. Instead I'm parsing it using the built-in parser.\n",
      "info_records = Entrez.read( info_handler ) \n",
      "info_records['DbList']"
     ],
     "language": "python",
     "metadata": {},
     "outputs": [
      {
       "metadata": {},
       "output_type": "pyout",
       "prompt_number": 4,
       "text": [
        "['pubmed', 'protein', 'nuccore', 'nucleotide', 'nucgss', 'nucest', 'structure', 'genome', 'assembly', 'genomeprj', 'bioproject', 'biosample', 'blastdbinfo', 'books', 'cdd', 'clinvar', 'clone', 'gap', 'gapplus', 'grasp', 'dbvar', 'epigenomics', 'gene', 'gds', 'geoprofiles', 'homologene', 'medgen', 'journals', 'mesh', 'ncbisearch', 'nlmcatalog', 'omim', 'orgtrack', 'pmc', 'popset', 'probe', 'proteinclusters', 'pcassay', 'biosystems', 'pccompound', 'pcsubstance', 'pubmedhealth', 'seqannot', 'snp', 'sra', 'taxonomy', 'toolkit', 'toolkitall', 'toolkitbook', 'unigene', 'gencoll', 'gtr']"
       ]
      }
     ],
     "prompt_number": 4
    },
    {
     "cell_type": "markdown",
     "metadata": {},
     "source": [
      "A richer data structure is returned if you specify the database in your request."
     ]
    },
    {
     "cell_type": "code",
     "collapsed": false,
     "input": [
      "info_handler = Entrez.einfo( db = 'pubmed' )\n",
      "info_records = Entrez.read( info_handler ) \n",
      "info_records"
     ],
     "language": "python",
     "metadata": {},
     "outputs": [
      {
       "metadata": {},
       "output_type": "pyout",
       "prompt_number": 5,
       "text": [
        "{u'DbInfo': {u'Count': '24604825', u'LastUpdate': '2015/02/07 16:28', u'MenuName': 'PubMed', u'Description': 'PubMed bibliographic record', u'LinkList': [{u'DbTo': 'assembly', u'Menu': 'Assembly', u'Name': 'pubmed_assembly', u'Description': 'Assembly'}, {u'DbTo': 'bioproject', u'Menu': 'Project Links', u'Name': 'pubmed_bioproject', u'Description': 'Related Projects'}, {u'DbTo': 'biosample', u'Menu': 'BioSample Links', u'Name': 'pubmed_biosample', u'Description': 'BioSample links'}, {u'DbTo': 'biosystems', u'Menu': 'BioSystem Links', u'Name': 'pubmed_biosystems', u'Description': 'Pathways and biological systems (BioSystems) that cite the current articles. Citations are from the BioSystems source databases (KEGG and BioCyc).'}, {u'DbTo': 'books', u'Menu': 'Cited in Books', u'Name': 'pubmed_books_refs', u'Description': 'NCBI Bookshelf books that cite the current articles.'}, {u'DbTo': 'cdd', u'Menu': 'Domain Links', u'Name': 'pubmed_cdd', u'Description': 'Conserved Domain Database (CDD) records that cite the current articles. Citations are from the CDD source database records (PFAM, SMART).'}, {u'DbTo': 'clinvar', u'Menu': 'ClinVar', u'Name': 'pubmed_clinvar', u'Description': 'Clinical variations associated with publication'}, {u'DbTo': 'clinvar', u'Menu': 'ClinVar (calculated)', u'Name': 'pubmed_clinvar_calculated', u'Description': 'Clinical variations calculated to be associated with publication'}, {u'DbTo': 'dbvar', u'Menu': 'dbVar', u'Name': 'pubmed_dbvar', u'Description': 'Link from PubMed to dbVar'}, {u'DbTo': 'epigenomics', u'Menu': 'Epigenomics (experiments)', u'Name': 'pubmed_epigenomics_experiment', u'Description': 'Links to experimental data from epigenomic studies'}, {u'DbTo': 'epigenomics', u'Menu': 'Epigenomics (samples)', u'Name': 'pubmed_epigenomics_sample', u'Description': 'Links to descriptions of biological samples used in epigenomic studies'}, {u'DbTo': 'epigenomics', u'Menu': 'Epigenomics (study)', u'Name': 'pubmed_epigenomics_study', u'Description': 'Links to overviews of epigenomic studies'}, {u'DbTo': 'gap', u'Menu': 'dbGaP Links', u'Name': 'pubmed_gap', u'Description': 'Genotypes and Phenotypes (dbGaP) studies that cite the current articles.'}, {u'DbTo': 'gds', u'Menu': 'GEO DataSet Links', u'Name': 'pubmed_gds', u'Description': 'Gene expression and molecular abundance data reported in the current articles that are also included in the curated Gene Expression Omnibus (GEO) DataSets.'}, {u'DbTo': 'gene', u'Menu': 'Gene Links', u'Name': 'pubmed_gene', u'Description': 'Gene records that cite the current articles. Citations in Gene are added manually by NCBI or imported from outside public resources.'}, {u'DbTo': 'gene', u'Menu': 'Gene (from Bookshelf)', u'Name': 'pubmed_gene_bookrecords', u'Description': 'Gene records in this citation'}, {u'DbTo': 'gene', u'Menu': 'Gene (OMIM) Links', u'Name': 'pubmed_gene_citedinomim', u'Description': 'Gene records associated with Online Mendelian Inheritance in Man (OMIM) records that cite the current articles in their reference lists.'}, {u'DbTo': 'gene', u'Menu': 'Gene (nucleotide/PMC)', u'Name': 'pubmed_gene_pmc_nucleotide', u'Description': 'Records in Gene identified from shared sequence and PMC links.'}, {u'DbTo': 'gene', u'Menu': 'Gene (GeneRIF) Links', u'Name': 'pubmed_gene_rif', u'Description': 'Gene records that have the current articles as Reference into Function citations (GeneRIFs). NLM staff reviewing the literature while indexing MEDLINE add GeneRIFs manually.'}, {u'DbTo': 'genome', u'Menu': 'Genome Links', u'Name': 'pubmed_genome', u'Description': 'Genome records that include the current articles as references. These are typically the articles that report the sequencing and analysis of the genome.'}, {u'DbTo': 'geoprofiles', u'Menu': 'GEO Profile Links', u'Name': 'pubmed_geoprofiles', u'Description': 'Gene Expression Omnibus (GEO) Profiles of molecular abundance data. The current articles are references on the Gene record associated with the GEO profile.'}, {u'DbTo': 'homologene', u'Menu': 'HomoloGene Links', u'Name': 'pubmed_homologene', u'Description': 'HomoloGene clusters of homologous genes and sequences that cite the current articles. These are references on the Gene and sequence records in the HomoloGene entry.'}, {u'DbTo': 'medgen', u'Menu': 'MedGen', u'Name': 'pubmed_medgen', u'Description': 'Related information in MedGen'}, {u'DbTo': 'medgen', u'Menu': 'MedGen (Bookshelf cited)', u'Name': 'pubmed_medgen_bookshelf_cited', u'Description': 'Related records in MedGen based on citations in GeneReviews and Medical Genetics Summaries'}, {u'DbTo': 'medgen', u'Menu': 'MedGen (GeneReviews)', u'Name': 'pubmed_medgen_genereviews', u'Description': 'Related MedGen records'}, {u'DbTo': 'medgen', u'Menu': 'MedGen (OMIM)', u'Name': 'pubmed_medgen_omim', u'Description': 'Related information in MedGen (OMIM)'}, {u'DbTo': 'nuccore', u'Menu': 'Nucleotide Links', u'Name': 'pubmed_nuccore', u'Description': 'Primary database (GenBank) nucleotide records reported in the current articles as well as Reference Sequences (RefSeqs) that include the articles as references.'}, {u'DbTo': 'nuccore', u'Menu': 'Nucleotide (RefSeq) Links', u'Name': 'pubmed_nuccore_refseq', u'Description': 'NCBI nucleotide Reference Sequences (RefSeqs) that are cited in the current articles, included in the corresponding Gene Reference into Function, or that include the PubMed articles as references.'}, {u'DbTo': 'nuccore', u'Menu': 'Nucleotide (Weighted) Links', u'Name': 'pubmed_nuccore_weighted', u'Description': 'Nucleotide records associated with the current articles through the Gene database. These are the related sequences on the Gene record that are added manually by NCBI.'}, {u'DbTo': 'nucest', u'Menu': 'EST Links', u'Name': 'pubmed_nucest', u'Description': 'Expressed Sequence Tag (EST) nucleotide sequence records reported in the current articles.'}, {u'DbTo': 'nucgss', u'Menu': 'GSS Links', u'Name': 'pubmed_nucgss', u'Description': 'Genome Survey Sequence (GSS) nucleotide records reported in the current articles.'}, {u'DbTo': 'omim', u'Menu': 'OMIM (from Bookshelf)', u'Name': 'pubmed_omim_bookrecords', u'Description': 'OMIM records in this citation'}, {u'DbTo': 'omim', u'Menu': 'OMIM (calculated) Links', u'Name': 'pubmed_omim_calculated', u'Description': 'Online Mendelian Inheritance in Man (OMIM) records that include the current articles as references in the light bulb links within or in the citations at the end of the OMIM record. The references available through the light bulb link are collected using the PubMed related articles algorithm to identify records with similar terminology to the OMIM record.'}, {u'DbTo': 'omim', u'Menu': 'OMIM (cited) Links', u'Name': 'pubmed_omim_cited', u'Description': 'Online Mendelian Inheritance in Man (OMIM) records that include the current articles as reference cited at the end of the OMIM record.'}, {u'DbTo': 'pcassay', u'Menu': 'PubChem BioAssay', u'Name': 'pubmed_pcassay', u'Description': 'PubChem BioAssay experiments on the biological activities of small molecules that cite the current articles. The depositors of BioAssay data provide these references.'}, {u'DbTo': 'pccompound', u'Menu': 'PubChem Compound', u'Name': 'pubmed_pccompound', u'Description': 'PubChem chemical compound records that cite the current articles. These references are taken from those provided on submitted PubChem chemical substance records. Multiple substance records may contribute to the PubChem compound record.'}, {u'DbTo': 'pccompound', u'Menu': 'PubChem Compound (MeSH Keyword)', u'Name': 'pubmed_pccompound_mesh', u'Description': 'PubChem chemical compound records that are classified under the same Medical Subject Headings (MeSH) controlled vocabulary as the current articles.'}, {u'DbTo': 'pccompound', u'Menu': 'PubChem Compound (Publisher)', u'Name': 'pubmed_pccompound_publisher', u'Description': 'Link to publisher deposited structures in the PubChem Compound database.'}, {u'DbTo': 'pcsubstance', u'Menu': 'PubChem Substance Links', u'Name': 'pubmed_pcsubstance', u'Description': 'PubChem chemical substance records that cite the current articles. These references are taken from those provided on submitted PubChem chemical substance records.'}, {u'DbTo': 'pcsubstance', u'Menu': 'PubChem Substance (from Bookshelf)', u'Name': 'pubmed_pcsubstance_bookrecords', u'Description': 'Structures in the PubChem Substance database in this citation'}, {u'DbTo': 'pcsubstance', u'Menu': 'PubChem Substance (MeSH Keyword)', u'Name': 'pubmed_pcsubstance_mesh', u'Description': 'PubChem chemical substance (submitted) records that are classified under the same Medical Subject Headings (MeSH) controlled vocabulary as the current articles.'}, {u'DbTo': 'pcsubstance', u'Menu': 'PubChem Substance (Publisher)', u'Name': 'pubmed_pcsubstance_publisher', u'Description': 'Publisher deposited structures in the PubChem Compound database that are reported in the current articles.'}, {u'DbTo': 'pmc', u'Menu': 'PMC Links', u'Name': 'pubmed_pmc', u'Description': 'Free full-text versions of the current articles in the PubMed Central database.'}, {u'DbTo': 'pmc', u'Menu': 'References in PMC for this Bookshelf citation', u'Name': 'pubmed_pmc_bookrecords', u'Description': 'Full text of articles in PubMed Central cited in this record'}, {u'DbTo': 'pmc', u'Menu': '', u'Name': 'pubmed_pmc_embargo', u'Description': 'Embargoed PMC article associated with PubMed'}, {u'DbTo': 'pmc', u'Menu': '', u'Name': 'pubmed_pmc_local', u'Description': 'Free full text articles in PMC'}, {u'DbTo': 'pmc', u'Menu': 'Cited in PMC', u'Name': 'pubmed_pmc_refs', u'Description': 'Full-text articles in the PubMed Central Database that cite the current articles.'}, {u'DbTo': 'popset', u'Menu': 'PopSet Links', u'Name': 'pubmed_popset', u'Description': 'Sets of sequences from population and evolutionary genetic studies in the PopSet database reported in the current articles.'}, {u'DbTo': 'probe', u'Menu': 'Probe Links', u'Name': 'pubmed_probe', u'Description': 'Molecular reagents in the Probe database that cite the current articles. References in Probe are provided by submitters of the data.'}, {u'DbTo': 'protein', u'Menu': 'Protein Links', u'Name': 'pubmed_protein', u'Description': 'Protein translation features of primary database (GenBank) nucleotide records reported in the current articles as well as Reference Sequences (RefSeqs) that include the articles as references.'}, {u'DbTo': 'protein', u'Menu': 'Protein (RefSeq) Links', u'Name': 'pubmed_protein_refseq', u'Description': 'NCBI protein Reference Sequences (RefSeqs) that are cited in the current articles, included in the corresponding Gene Reference into Function, or that include the PubMed articles as references.'}, {u'DbTo': 'protein', u'Menu': 'Protein (Weighted) Links', u'Name': 'pubmed_protein_weighted', u'Description': 'Protein records associated with the current articles through related Gene database records. These are the related sequences on the Gene record that are added manually by NCBI.'}, {u'DbTo': 'proteinclusters', u'Menu': 'Protein Cluster Links', u'Name': 'pubmed_proteinclusters', u'Description': 'Clusters of related proteins from the Protein Clusters database that cite the current articles. Sources of references in Protein Clusters include the associated Gene and Conserved Domain records as well as NCBI added citations.'}, {u'DbTo': 'pubmed', u'Menu': 'Related Citations', u'Name': 'pubmed_pubmed', u'Description': u'Calculated set of PubMed citations closely related to the selected article(s) retrieved using a word weight algorithm. Related articles are displayed in ranked order from most to least relevant, with the \\u201clinked from\\u201d citation displayed first.'}, {u'DbTo': 'pubmed', u'Menu': 'Articles frequently viewed together', u'Name': 'pubmed_pubmed_alsoviewed', u'Description': '<p>Links to additional articles that others frequently viewed together with your selection.</p><p><i>An experimental new feature from PubMed Labs</i>.</p>'}, {u'DbTo': 'pubmed', u'Menu': 'References for this Bookshelf citation', u'Name': 'pubmed_pubmed_bookrecords', u'Description': 'PubMed abstracts for articles cited in this record'}, {u'DbTo': 'pubmed', u'Menu': 'Clinical Trial Review', u'Name': 'pubmed_pubmed_pmh_cited', u'Description': 'PubMed records cited in PubMed Health systematic reviews'}, {u'DbTo': 'pubmed', u'Menu': 'References for PMC Articles', u'Name': 'pubmed_pubmed_refs', u'Description': 'Citation referenced in PubMed article. Only valid for PubMed citations that are also in PMC.'}, {u'DbTo': 'snp', u'Menu': 'SNP Links', u'Name': 'pubmed_snp', u'Description': 'Nucleotide polymorphism records from dbSNP that have current articles as submitter-provided references.'}, {u'DbTo': 'snp', u'Menu': 'SNP (Cited)', u'Name': 'pubmed_snp_cited', u'Description': 'Nucleotide polymorphism records from dbSNP that have NCBI dbSNP identifiers reported in the PubMed abstract of the current articles.'}, {u'DbTo': 'sra', u'Menu': 'SRA Links', u'Name': 'pubmed_sra', u'Description': 'Massively-parallel sequencing project data in the Short Read Archive (SRA) that are reported in the current articles.'}, {u'DbTo': 'structure', u'Menu': 'Structure Links', u'Name': 'pubmed_structure', u'Description': 'Three-dimensional structure records in the NCBI Structure database for data reported in the current articles.'}, {u'DbTo': 'taxonomy', u'Menu': 'Taxonomy via GenBank', u'Name': 'pubmed_taxonomy_entrez', u'Description': 'Taxonomy records associated with the current articles through taxonomic information on related molecular database records (Nucleotide, Protein, Gene, SNP, Structure).'}, {u'DbTo': 'unigene', u'Menu': 'UniGene Links', u'Name': 'pubmed_unigene', u'Description': 'UniGene clusters of expressed sequences that are associated with the current articles through references on the clustered sequence records and related Gene records.'}], u'DbBuild': 'Build150206-2207m.8', u'FieldList': [{u'IsDate': 'N', u'Name': 'ALL', u'SingleToken': 'N', u'Hierarchy': 'N', u'IsNumerical': 'N', u'FullName': 'All Fields', u'IsHidden': 'N', u'TermCount': '152970133', u'Description': 'All terms from all searchable fields'}, {u'IsDate': 'N', u'Name': 'UID', u'SingleToken': 'Y', u'Hierarchy': 'N', u'IsNumerical': 'Y', u'FullName': 'UID', u'IsHidden': 'Y', u'TermCount': '0', u'Description': 'Unique number assigned to publication'}, {u'IsDate': 'N', u'Name': 'FILT', u'SingleToken': 'Y', u'Hierarchy': 'N', u'IsNumerical': 'N', u'FullName': 'Filter', u'IsHidden': 'N', u'TermCount': '8503', u'Description': 'Limits the records'}, {u'IsDate': 'N', u'Name': 'TITL', u'SingleToken': 'N', u'Hierarchy': 'N', u'IsNumerical': 'N', u'FullName': 'Title', u'IsHidden': 'N', u'TermCount': '15201281', u'Description': 'Words in title of publication'}, {u'IsDate': 'N', u'Name': 'WORD', u'SingleToken': 'N', u'Hierarchy': 'N', u'IsNumerical': 'N', u'FullName': 'Text Word', u'IsHidden': 'N', u'TermCount': '51992849', u'Description': 'Free text associated with publication'}, {u'IsDate': 'N', u'Name': 'MESH', u'SingleToken': 'Y', u'Hierarchy': 'Y', u'IsNumerical': 'N', u'FullName': 'MeSH Terms', u'IsHidden': 'N', u'TermCount': '599781', u'Description': 'Medical Subject Headings assigned to publication'}, {u'IsDate': 'N', u'Name': 'MAJR', u'SingleToken': 'Y', u'Hierarchy': 'Y', u'IsNumerical': 'N', u'FullName': 'MeSH Major Topic', u'IsHidden': 'N', u'TermCount': '535564', u'Description': 'MeSH terms of major importance to publication'}, {u'IsDate': 'N', u'Name': 'AUTH', u'SingleToken': 'Y', u'Hierarchy': 'N', u'IsNumerical': 'N', u'FullName': 'Author', u'IsHidden': 'N', u'TermCount': '13304865', u'Description': 'Author(s) of publication'}, {u'IsDate': 'N', u'Name': 'JOUR', u'SingleToken': 'Y', u'Hierarchy': 'N', u'IsNumerical': 'N', u'FullName': 'Journal', u'IsHidden': 'N', u'TermCount': '170518', u'Description': 'Journal abbreviation of publication'}, {u'IsDate': 'N', u'Name': 'AFFL', u'SingleToken': 'N', u'Hierarchy': 'N', u'IsNumerical': 'N', u'FullName': 'Affiliation', u'IsHidden': 'N', u'TermCount': '28785281', u'Description': \"Author's institutional affiliation and address\"}, {u'IsDate': 'N', u'Name': 'ECNO', u'SingleToken': 'Y', u'Hierarchy': 'N', u'IsNumerical': 'N', u'FullName': 'EC/RN Number', u'IsHidden': 'N', u'TermCount': '93862', u'Description': 'EC number for enzyme or CAS registry number'}, {u'IsDate': 'N', u'Name': 'SUBS', u'SingleToken': 'Y', u'Hierarchy': 'N', u'IsNumerical': 'N', u'FullName': 'Supplementary Concept', u'IsHidden': 'N', u'TermCount': '236056', u'Description': 'CAS chemical name or MEDLINE Substance Name'}, {u'IsDate': 'Y', u'Name': 'PDAT', u'SingleToken': 'Y', u'Hierarchy': 'N', u'IsNumerical': 'N', u'FullName': 'Date - Publication', u'IsHidden': 'N', u'TermCount': '37300', u'Description': 'Date of publication'}, {u'IsDate': 'Y', u'Name': 'EDAT', u'SingleToken': 'Y', u'Hierarchy': 'N', u'IsNumerical': 'N', u'FullName': 'Date - Entrez', u'IsHidden': 'N', u'TermCount': '35961', u'Description': 'Date publication first accessible through Entrez'}, {u'IsDate': 'N', u'Name': 'VOL', u'SingleToken': 'Y', u'Hierarchy': 'N', u'IsNumerical': 'N', u'FullName': 'Volume', u'IsHidden': 'N', u'TermCount': '13599', u'Description': 'Volume number of publication'}, {u'IsDate': 'N', u'Name': 'PAGE', u'SingleToken': 'Y', u'Hierarchy': 'N', u'IsNumerical': 'N', u'FullName': 'Pagination', u'IsHidden': 'N', u'TermCount': '2294892', u'Description': 'Page number(s) of publication'}, {u'IsDate': 'N', u'Name': 'PTYP', u'SingleToken': 'Y', u'Hierarchy': 'Y', u'IsNumerical': 'N', u'FullName': 'Publication Type', u'IsHidden': 'N', u'TermCount': '79', u'Description': 'Type of publication (e.g., review)'}, {u'IsDate': 'N', u'Name': 'LANG', u'SingleToken': 'Y', u'Hierarchy': 'N', u'IsNumerical': 'N', u'FullName': 'Language', u'IsHidden': 'N', u'TermCount': '58', u'Description': 'Language of publication'}, {u'IsDate': 'N', u'Name': 'ISS', u'SingleToken': 'Y', u'Hierarchy': 'N', u'IsNumerical': 'N', u'FullName': 'Issue', u'IsHidden': 'N', u'TermCount': '17686', u'Description': 'Issue number of publication'}, {u'IsDate': 'N', u'Name': 'SUBH', u'SingleToken': 'Y', u'Hierarchy': 'Y', u'IsNumerical': 'N', u'FullName': 'MeSH Subheading', u'IsHidden': 'N', u'TermCount': '83', u'Description': 'Additional specificity for MeSH term'}, {u'IsDate': 'N', u'Name': 'SI', u'SingleToken': 'Y', u'Hierarchy': 'N', u'IsNumerical': 'N', u'FullName': 'Secondary Source ID', u'IsHidden': 'N', u'TermCount': '6695199', u'Description': 'Cross-reference from publication to other databases'}, {u'IsDate': 'Y', u'Name': 'MHDA', u'SingleToken': 'Y', u'Hierarchy': 'N', u'IsNumerical': 'N', u'FullName': 'Date - MeSH', u'IsHidden': 'N', u'TermCount': '35809', u'Description': 'Date publication was indexed with MeSH terms'}, {u'IsDate': 'N', u'Name': 'TIAB', u'SingleToken': 'N', u'Hierarchy': 'N', u'IsNumerical': 'N', u'FullName': 'Title/Abstract', u'IsHidden': 'N', u'TermCount': '44157333', u'Description': 'Free text associated with Abstract/Title'}, {u'IsDate': 'N', u'Name': 'OTRM', u'SingleToken': 'N', u'Hierarchy': 'N', u'IsNumerical': 'N', u'FullName': 'Other Term', u'IsHidden': 'N', u'TermCount': '1741717', u'Description': 'Other terms associated with publication'}, {u'IsDate': 'N', u'Name': 'INVR', u'SingleToken': 'Y', u'Hierarchy': 'N', u'IsNumerical': 'N', u'FullName': 'Investigator', u'IsHidden': 'N', u'TermCount': '1067340', u'Description': 'Investigator'}, {u'IsDate': 'N', u'Name': 'COLN', u'SingleToken': 'N', u'Hierarchy': 'N', u'IsNumerical': 'N', u'FullName': 'Author - Corporate', u'IsHidden': 'N', u'TermCount': '192196', u'Description': 'Corporate Author of publication'}, {u'IsDate': 'N', u'Name': 'CNTY', u'SingleToken': 'N', u'Hierarchy': 'N', u'IsNumerical': 'N', u'FullName': 'Place of Publication', u'IsHidden': 'Y', u'TermCount': '282', u'Description': 'Country of publication'}, {u'IsDate': 'N', u'Name': 'PAPX', u'SingleToken': 'Y', u'Hierarchy': 'N', u'IsNumerical': 'N', u'FullName': 'Pharmacological Action', u'IsHidden': 'N', u'TermCount': '528', u'Description': 'MeSH pharmacological action pre-explosions'}, {u'IsDate': 'N', u'Name': 'GRNT', u'SingleToken': 'Y', u'Hierarchy': 'N', u'IsNumerical': 'N', u'FullName': 'Grant Number', u'IsHidden': 'N', u'TermCount': '3630640', u'Description': 'NIH Grant Numbers'}, {u'IsDate': 'Y', u'Name': 'MDAT', u'SingleToken': 'Y', u'Hierarchy': 'N', u'IsNumerical': 'N', u'FullName': 'Date - Modification', u'IsHidden': 'N', u'TermCount': '4212', u'Description': 'Date of last modification'}, {u'IsDate': 'Y', u'Name': 'CDAT', u'SingleToken': 'Y', u'Hierarchy': 'N', u'IsNumerical': 'N', u'FullName': 'Date - Completion', u'IsHidden': 'N', u'TermCount': '10519', u'Description': 'Date of completion'}, {u'IsDate': 'N', u'Name': 'PID', u'SingleToken': 'Y', u'Hierarchy': 'N', u'IsNumerical': 'N', u'FullName': 'Publisher ID', u'IsHidden': 'Y', u'TermCount': '15239488', u'Description': 'Publisher ID'}, {u'IsDate': 'N', u'Name': 'FAUT', u'SingleToken': 'Y', u'Hierarchy': 'N', u'IsNumerical': 'N', u'FullName': 'Author - First', u'IsHidden': 'N', u'TermCount': '7186149', u'Description': 'First Author of publication'}, {u'IsDate': 'N', u'Name': 'FULL', u'SingleToken': 'Y', u'Hierarchy': 'N', u'IsNumerical': 'N', u'FullName': 'Author - Full', u'IsHidden': 'N', u'TermCount': '9702339', u'Description': 'Full Author Name(s) of publication'}, {u'IsDate': 'N', u'Name': 'FINV', u'SingleToken': 'Y', u'Hierarchy': 'N', u'IsNumerical': 'N', u'FullName': 'Investigator - Full', u'IsHidden': 'N', u'TermCount': '614120', u'Description': 'Full name of investigator'}, {u'IsDate': 'N', u'Name': 'TT', u'SingleToken': 'N', u'Hierarchy': 'N', u'IsNumerical': 'N', u'FullName': 'Transliterated Title', u'IsHidden': 'N', u'TermCount': '2259916', u'Description': 'Words in transliterated title of publication'}, {u'IsDate': 'N', u'Name': 'LAUT', u'SingleToken': 'Y', u'Hierarchy': 'N', u'IsNumerical': 'N', u'FullName': 'Author - Last', u'IsHidden': 'N', u'TermCount': '6367946', u'Description': 'Last Author of publication'}, {u'IsDate': 'Y', u'Name': 'PPDT', u'SingleToken': 'Y', u'Hierarchy': 'N', u'IsNumerical': 'N', u'FullName': 'Print Publication Date', u'IsHidden': 'Y', u'TermCount': '37299', u'Description': 'Date of print publication'}, {u'IsDate': 'Y', u'Name': 'EPDT', u'SingleToken': 'Y', u'Hierarchy': 'N', u'IsNumerical': 'N', u'FullName': 'Electronic Publication Date', u'IsHidden': 'Y', u'TermCount': '5875', u'Description': 'Date of Electronic publication'}, {u'IsDate': 'N', u'Name': 'LID', u'SingleToken': 'Y', u'Hierarchy': 'N', u'IsNumerical': 'N', u'FullName': 'Location ID', u'IsHidden': 'N', u'TermCount': '5789387', u'Description': 'ELocation ID'}, {u'IsDate': 'Y', u'Name': 'CRDT', u'SingleToken': 'Y', u'Hierarchy': 'N', u'IsNumerical': 'N', u'FullName': 'Date - Create', u'IsHidden': 'N', u'TermCount': '28825', u'Description': 'Date publication first accessible through Entrez'}, {u'IsDate': 'N', u'Name': 'BOOK', u'SingleToken': 'Y', u'Hierarchy': 'N', u'IsNumerical': 'N', u'FullName': 'Book', u'IsHidden': 'N', u'TermCount': '3095', u'Description': 'ID of the book that contains the document'}, {u'IsDate': 'N', u'Name': 'ED', u'SingleToken': 'Y', u'Hierarchy': 'N', u'IsNumerical': 'N', u'FullName': 'Editor', u'IsHidden': 'N', u'TermCount': '2680', u'Description': \"Section's Editor\"}, {u'IsDate': 'N', u'Name': 'ISBN', u'SingleToken': 'Y', u'Hierarchy': 'N', u'IsNumerical': 'N', u'FullName': 'ISBN', u'IsHidden': 'N', u'TermCount': '2281', u'Description': 'ISBN'}, {u'IsDate': 'N', u'Name': 'PUBN', u'SingleToken': 'Y', u'Hierarchy': 'N', u'IsNumerical': 'N', u'FullName': 'Publisher', u'IsHidden': 'N', u'TermCount': '360', u'Description': \"Publisher's name\"}, {u'IsDate': 'N', u'Name': 'AUCL', u'SingleToken': 'Y', u'Hierarchy': 'N', u'IsNumerical': 'N', u'FullName': 'Author Cluster ID', u'IsHidden': 'Y', u'TermCount': '0', u'Description': 'Author Cluster ID'}, {u'IsDate': 'N', u'Name': 'EID', u'SingleToken': 'Y', u'Hierarchy': 'N', u'IsNumerical': 'N', u'FullName': 'Extended PMID', u'IsHidden': 'Y', u'TermCount': '24597236', u'Description': 'Extended PMID'}, {u'IsDate': 'N', u'Name': 'DSO', u'SingleToken': 'N', u'Hierarchy': 'N', u'IsNumerical': 'N', u'FullName': 'DSO', u'IsHidden': 'Y', u'TermCount': '213024', u'Description': 'Additional text from the summary'}, {u'IsDate': 'N', u'Name': 'AUID', u'SingleToken': 'Y', u'Hierarchy': 'N', u'IsNumerical': 'N', u'FullName': 'Author - Identifier', u'IsHidden': 'N', u'TermCount': '100383', u'Description': 'Author Identifier'}, {u'IsDate': 'N', u'Name': 'PS', u'SingleToken': 'Y', u'Hierarchy': 'N', u'IsNumerical': 'N', u'FullName': 'Subject - Personal Name', u'IsHidden': 'N', u'TermCount': '432147', u'Description': 'Personal Name as Subject'}], u'DbName': 'pubmed'}}"
       ]
      }
     ],
     "prompt_number": 5
    },
    {
     "cell_type": "heading",
     "level": 3,
     "metadata": {},
     "source": [
      "EInfo"
     ]
    },
    {
     "cell_type": "heading",
     "level": 3,
     "metadata": {},
     "source": [
      "EInfo"
     ]
    },
    {
     "cell_type": "heading",
     "level": 3,
     "metadata": {},
     "source": [
      "EInfo"
     ]
    },
    {
     "cell_type": "heading",
     "level": 3,
     "metadata": {},
     "source": [
      "EInfo"
     ]
    },
    {
     "cell_type": "heading",
     "level": 3,
     "metadata": {},
     "source": [
      "EInfo"
     ]
    },
    {
     "cell_type": "heading",
     "level": 3,
     "metadata": {},
     "source": [
      "EInfo"
     ]
    },
    {
     "cell_type": "heading",
     "level": 3,
     "metadata": {},
     "source": [
      "EInfo"
     ]
    }
   ],
   "metadata": {}
  }
 ]
}