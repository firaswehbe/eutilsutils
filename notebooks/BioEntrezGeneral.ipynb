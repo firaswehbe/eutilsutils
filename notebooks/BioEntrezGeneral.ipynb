{
 "cells": [
  {
   "cell_type": "markdown",
   "metadata": {},
   "source": [
    "# General Description"
   ]
  },
  {
   "cell_type": "markdown",
   "metadata": {},
   "source": [
    "The `Bio.Entrez` module functionality maps well to the E-Utils programming utilities for interacting with the Entrez system which itself is interface for interacting with the various NCBI databases. Inspecting this module, gives a good understanding of how E-Utils work. I will focus on E-utils for the PubMed database."
   ]
  },
  {
   "cell_type": "code",
   "execution_count": 1,
   "metadata": {
    "collapsed": false
   },
   "outputs": [
    {
     "name": "stdout",
     "output_type": "stream",
     "text": [
      "3.5.2 |Continuum Analytics, Inc.| (default, Jul  2 2016, 17:52:12) \n",
      "[GCC 4.2.1 Compatible Apple LLVM 4.2 (clang-425.0.28)]\n"
     ]
    }
   ],
   "source": [
    "import sys\n",
    "print(sys.version)"
   ]
  },
  {
   "cell_type": "code",
   "execution_count": 2,
   "metadata": {
    "collapsed": false
   },
   "outputs": [],
   "source": [
    "from Bio import Entrez\n",
    "import pandas as pd"
   ]
  },
  {
   "cell_type": "markdown",
   "metadata": {},
   "source": [
    "## Variables"
   ]
  },
  {
   "cell_type": "markdown",
   "metadata": {},
   "source": [
    "`Bio.Entrez` requires that you set two variables: `email` and `tool`. The eUtils API doesn't like it when you hit it more than 3 times per second. ([See here.](http://www.ncbi.nlm.nih.gov/books/NBK25497/#chapter2.Usage_Guidelines_and_Requiremen)) You can get blocked if you do it more often. To ensure you're not blocked, announce yourself to the API by including your email and tool variables in every request. `Bio.Entrez` (the python module) would include these variable for you in the subsequent requsts to E-Utils. You would provide them to `Bio.Entrez` as follows:"
   ]
  },
  {
   "cell_type": "code",
   "execution_count": 3,
   "metadata": {
    "collapsed": false
   },
   "outputs": [],
   "source": [
    "Entrez.email = 'firas.wehbe@vanderbilt.edu'\n",
    "Entrez.tool = 'BioPython Entrez Demo'"
   ]
  },
  {
   "cell_type": "markdown",
   "metadata": {},
   "source": [
    "## Methods"
   ]
  },
  {
   "cell_type": "markdown",
   "metadata": {},
   "source": [
    "### EInfo"
   ]
  },
  {
   "cell_type": "markdown",
   "metadata": {},
   "source": [
    "EInfo is a tool for giving you information about the Entrez databases. First check out this example of how in general `Bio.Entrez` works to handle returned results (hint: they are returned as a stream that you can parse userself using the `.read()` method or it would parse it for you using the `Bio.Entrez.read()` method."
   ]
  },
  {
   "cell_type": "code",
   "execution_count": 4,
   "metadata": {
    "collapsed": false
   },
   "outputs": [
    {
     "data": {
      "text/plain": [
       "{'DbList': ['pubmed', 'protein', 'nuccore', 'nucleotide', 'nucgss', 'nucest', 'structure', 'sparcle', 'genome', 'annotinfo', 'assembly', 'bioproject', 'biosample', 'blastdbinfo', 'books', 'cdd', 'clinvar', 'clone', 'gap', 'gapplus', 'grasp', 'dbvar', 'gene', 'gds', 'geoprofiles', 'homologene', 'medgen', 'mesh', 'ncbisearch', 'nlmcatalog', 'omim', 'orgtrack', 'pmc', 'popset', 'probe', 'proteinclusters', 'pcassay', 'biosystems', 'pccompound', 'pcsubstance', 'pubmedhealth', 'seqannot', 'snp', 'sra', 'taxonomy', 'unigene', 'gencoll', 'gtr']}"
      ]
     },
     "execution_count": 4,
     "metadata": {},
     "output_type": "execute_result"
    }
   ],
   "source": [
    "info_handler = Entrez.einfo()\n",
    "# If you type info_handler.read() you can see the returned XML. Instead I'm parsing it using the built-in parser.\n",
    "info_records = Entrez.read( info_handler ) \n",
    "info_records"
   ]
  },
  {
   "cell_type": "markdown",
   "metadata": {},
   "source": [
    "A richer data structure is returned if you specify the database in your request."
   ]
  },
  {
   "cell_type": "code",
   "execution_count": 5,
   "metadata": {
    "collapsed": false
   },
   "outputs": [],
   "source": [
    "info_handler = Entrez.einfo( db = 'clinvar' )\n",
    "info_records = Entrez.read( info_handler ) "
   ]
  },
  {
   "cell_type": "code",
   "execution_count": 6,
   "metadata": {
    "collapsed": false
   },
   "outputs": [
    {
     "data": {
      "text/plain": [
       "dict_keys(['DbInfo'])"
      ]
     },
     "execution_count": 6,
     "metadata": {},
     "output_type": "execute_result"
    }
   ],
   "source": [
    "info_records.keys()"
   ]
  },
  {
   "cell_type": "code",
   "execution_count": 7,
   "metadata": {
    "collapsed": false
   },
   "outputs": [
    {
     "data": {
      "text/plain": [
       "dict_keys(['Count', 'LastUpdate', 'MenuName', 'DbBuild', 'FieldList', 'DbName', 'Description', 'LinkList'])"
      ]
     },
     "execution_count": 7,
     "metadata": {},
     "output_type": "execute_result"
    }
   ],
   "source": [
    "info_records['DbInfo'].keys()"
   ]
  },
  {
   "cell_type": "code",
   "execution_count": 8,
   "metadata": {
    "collapsed": false
   },
   "outputs": [
    {
     "data": {
      "text/plain": [
       "'170659'"
      ]
     },
     "execution_count": 8,
     "metadata": {},
     "output_type": "execute_result"
    }
   ],
   "source": [
    "info_records['DbInfo']['Count']"
   ]
  },
  {
   "cell_type": "code",
   "execution_count": 9,
   "metadata": {
    "collapsed": false
   },
   "outputs": [
    {
     "data": {
      "text/plain": [
       "'2016/10/12 15:46'"
      ]
     },
     "execution_count": 9,
     "metadata": {},
     "output_type": "execute_result"
    }
   ],
   "source": [
    "info_records['DbInfo']['LastUpdate']"
   ]
  },
  {
   "cell_type": "code",
   "execution_count": 10,
   "metadata": {
    "collapsed": false
   },
   "outputs": [
    {
     "data": {
      "text/plain": [
       "'ClinVar'"
      ]
     },
     "execution_count": 10,
     "metadata": {},
     "output_type": "execute_result"
    }
   ],
   "source": [
    "info_records['DbInfo']['MenuName']"
   ]
  },
  {
   "cell_type": "code",
   "execution_count": 11,
   "metadata": {
    "collapsed": false
   },
   "outputs": [
    {
     "data": {
      "text/plain": [
       "'ClinVar Database'"
      ]
     },
     "execution_count": 11,
     "metadata": {},
     "output_type": "execute_result"
    }
   ],
   "source": [
    "info_records['DbInfo']['Description']"
   ]
  },
  {
   "cell_type": "code",
   "execution_count": 12,
   "metadata": {
    "collapsed": false
   },
   "outputs": [
    {
     "data": {
      "text/html": [
       "<div>\n",
       "<table border=\"1\" class=\"dataframe\">\n",
       "  <thead>\n",
       "    <tr style=\"text-align: right;\">\n",
       "      <th></th>\n",
       "      <th>DbTo</th>\n",
       "      <th>Description</th>\n",
       "      <th>Menu</th>\n",
       "      <th>Name</th>\n",
       "    </tr>\n",
       "  </thead>\n",
       "  <tbody>\n",
       "    <tr>\n",
       "      <th>0</th>\n",
       "      <td>dbvar</td>\n",
       "      <td>Related record in dbVar</td>\n",
       "      <td>dbVar</td>\n",
       "      <td>clinvar_dbvar</td>\n",
       "    </tr>\n",
       "    <tr>\n",
       "      <th>1</th>\n",
       "      <td>gene</td>\n",
       "      <td>Related genes</td>\n",
       "      <td>Gene</td>\n",
       "      <td>clinvar_gene</td>\n",
       "    </tr>\n",
       "    <tr>\n",
       "      <th>2</th>\n",
       "      <td>gtr</td>\n",
       "      <td>Testing for clinical variations</td>\n",
       "      <td>GTR (all)</td>\n",
       "      <td>clinvar_gtr</td>\n",
       "    </tr>\n",
       "    <tr>\n",
       "      <th>3</th>\n",
       "      <td>medgen</td>\n",
       "      <td>Related phenotypes in MedGen</td>\n",
       "      <td>MedGen</td>\n",
       "      <td>clinvar_medgen</td>\n",
       "    </tr>\n",
       "    <tr>\n",
       "      <th>4</th>\n",
       "      <td>omim</td>\n",
       "      <td>Gene or disease records in OMIM</td>\n",
       "      <td>OMIM</td>\n",
       "      <td>clinvar_omim</td>\n",
       "    </tr>\n",
       "    <tr>\n",
       "      <th>5</th>\n",
       "      <td>orgtrack</td>\n",
       "      <td>Organizations with information about this vari...</td>\n",
       "      <td>Orgtrack (all)</td>\n",
       "      <td>clinvar_orgtrack</td>\n",
       "    </tr>\n",
       "    <tr>\n",
       "      <th>6</th>\n",
       "      <td>pmc</td>\n",
       "      <td>Full text articles in PMC</td>\n",
       "      <td>PMC</td>\n",
       "      <td>clinvar_pmc</td>\n",
       "    </tr>\n",
       "    <tr>\n",
       "      <th>7</th>\n",
       "      <td>pubmed</td>\n",
       "      <td>Publications associated with clinical variation</td>\n",
       "      <td>PubMed</td>\n",
       "      <td>clinvar_pubmed</td>\n",
       "    </tr>\n",
       "    <tr>\n",
       "      <th>8</th>\n",
       "      <td>pubmed</td>\n",
       "      <td>Publications calculated to be associated with ...</td>\n",
       "      <td>PubMed (calculated)</td>\n",
       "      <td>clinvar_pubmed_calculated</td>\n",
       "    </tr>\n",
       "    <tr>\n",
       "      <th>9</th>\n",
       "      <td>snp</td>\n",
       "      <td>Related record in dbSNP</td>\n",
       "      <td>dbSNP</td>\n",
       "      <td>clinvar_snp</td>\n",
       "    </tr>\n",
       "    <tr>\n",
       "      <th>10</th>\n",
       "      <td>sparcle</td>\n",
       "      <td>Functional class of the sequence domain archit...</td>\n",
       "      <td>Functional Class</td>\n",
       "      <td>clinvar_sparcle</td>\n",
       "    </tr>\n",
       "  </tbody>\n",
       "</table>\n",
       "</div>"
      ],
      "text/plain": [
       "        DbTo                                        Description  \\\n",
       "0      dbvar                            Related record in dbVar   \n",
       "1       gene                                      Related genes   \n",
       "2        gtr                    Testing for clinical variations   \n",
       "3     medgen                       Related phenotypes in MedGen   \n",
       "4       omim                    Gene or disease records in OMIM   \n",
       "5   orgtrack  Organizations with information about this vari...   \n",
       "6        pmc                          Full text articles in PMC   \n",
       "7     pubmed    Publications associated with clinical variation   \n",
       "8     pubmed  Publications calculated to be associated with ...   \n",
       "9        snp                            Related record in dbSNP   \n",
       "10   sparcle  Functional class of the sequence domain archit...   \n",
       "\n",
       "                   Menu                       Name  \n",
       "0                 dbVar              clinvar_dbvar  \n",
       "1                  Gene               clinvar_gene  \n",
       "2             GTR (all)                clinvar_gtr  \n",
       "3                MedGen             clinvar_medgen  \n",
       "4                  OMIM               clinvar_omim  \n",
       "5        Orgtrack (all)           clinvar_orgtrack  \n",
       "6                   PMC                clinvar_pmc  \n",
       "7                PubMed             clinvar_pubmed  \n",
       "8   PubMed (calculated)  clinvar_pubmed_calculated  \n",
       "9                 dbSNP                clinvar_snp  \n",
       "10     Functional Class            clinvar_sparcle  "
      ]
     },
     "execution_count": 12,
     "metadata": {},
     "output_type": "execute_result"
    }
   ],
   "source": [
    "pd.DataFrame(info_records['DbInfo']['LinkList'])"
   ]
  },
  {
   "cell_type": "code",
   "execution_count": 13,
   "metadata": {
    "collapsed": false
   },
   "outputs": [
    {
     "data": {
      "text/html": [
       "<div>\n",
       "<table border=\"1\" class=\"dataframe\">\n",
       "  <thead>\n",
       "    <tr style=\"text-align: right;\">\n",
       "      <th></th>\n",
       "      <th>Description</th>\n",
       "      <th>FullName</th>\n",
       "      <th>Hierarchy</th>\n",
       "      <th>IsDate</th>\n",
       "      <th>IsHidden</th>\n",
       "      <th>IsNumerical</th>\n",
       "      <th>Name</th>\n",
       "      <th>SingleToken</th>\n",
       "      <th>TermCount</th>\n",
       "    </tr>\n",
       "  </thead>\n",
       "  <tbody>\n",
       "    <tr>\n",
       "      <th>0</th>\n",
       "      <td>All terms from all searchable fields</td>\n",
       "      <td>All Fields</td>\n",
       "      <td>N</td>\n",
       "      <td>N</td>\n",
       "      <td>N</td>\n",
       "      <td>N</td>\n",
       "      <td>ALL</td>\n",
       "      <td>N</td>\n",
       "      <td>4833446</td>\n",
       "    </tr>\n",
       "    <tr>\n",
       "      <th>1</th>\n",
       "      <td>Unique number assigned to variation</td>\n",
       "      <td>UID</td>\n",
       "      <td>N</td>\n",
       "      <td>N</td>\n",
       "      <td>Y</td>\n",
       "      <td>Y</td>\n",
       "      <td>UID</td>\n",
       "      <td>Y</td>\n",
       "      <td>0</td>\n",
       "    </tr>\n",
       "    <tr>\n",
       "      <th>2</th>\n",
       "      <td>Limits the records</td>\n",
       "      <td>Filter</td>\n",
       "      <td>N</td>\n",
       "      <td>N</td>\n",
       "      <td>N</td>\n",
       "      <td>N</td>\n",
       "      <td>FILT</td>\n",
       "      <td>Y</td>\n",
       "      <td>58</td>\n",
       "    </tr>\n",
       "    <tr>\n",
       "      <th>3</th>\n",
       "      <td>Constructed from variant and phenotype names</td>\n",
       "      <td>Name of the ClinVar record</td>\n",
       "      <td>N</td>\n",
       "      <td>N</td>\n",
       "      <td>N</td>\n",
       "      <td>N</td>\n",
       "      <td>TITL</td>\n",
       "      <td>Y</td>\n",
       "      <td>390105</td>\n",
       "    </tr>\n",
       "    <tr>\n",
       "      <th>4</th>\n",
       "      <td>Free text associated with record</td>\n",
       "      <td>Text Word</td>\n",
       "      <td>N</td>\n",
       "      <td>N</td>\n",
       "      <td>N</td>\n",
       "      <td>N</td>\n",
       "      <td>WORD</td>\n",
       "      <td>Y</td>\n",
       "      <td>2474054</td>\n",
       "    </tr>\n",
       "    <tr>\n",
       "      <th>5</th>\n",
       "      <td>scientific and common names of organism</td>\n",
       "      <td>Organism</td>\n",
       "      <td>Y</td>\n",
       "      <td>N</td>\n",
       "      <td>N</td>\n",
       "      <td>N</td>\n",
       "      <td>ORGN</td>\n",
       "      <td>Y</td>\n",
       "      <td>1</td>\n",
       "    </tr>\n",
       "    <tr>\n",
       "      <th>6</th>\n",
       "      <td>The last date on which the record was updated</td>\n",
       "      <td>Date modified</td>\n",
       "      <td>N</td>\n",
       "      <td>Y</td>\n",
       "      <td>N</td>\n",
       "      <td>N</td>\n",
       "      <td>MDAT</td>\n",
       "      <td>Y</td>\n",
       "      <td>95</td>\n",
       "    </tr>\n",
       "    <tr>\n",
       "      <th>7</th>\n",
       "      <td>Chromosome number or numbers; also 'mitochondr...</td>\n",
       "      <td>Chromosome</td>\n",
       "      <td>N</td>\n",
       "      <td>N</td>\n",
       "      <td>N</td>\n",
       "      <td>N</td>\n",
       "      <td>CHR</td>\n",
       "      <td>Y</td>\n",
       "      <td>26</td>\n",
       "    </tr>\n",
       "    <tr>\n",
       "      <th>8</th>\n",
       "      <td>Symbol or symbols of the gene</td>\n",
       "      <td>Gene Name</td>\n",
       "      <td>N</td>\n",
       "      <td>N</td>\n",
       "      <td>N</td>\n",
       "      <td>N</td>\n",
       "      <td>GENE</td>\n",
       "      <td>Y</td>\n",
       "      <td>27286</td>\n",
       "    </tr>\n",
       "    <tr>\n",
       "      <th>9</th>\n",
       "      <td>MIM number from OMIM</td>\n",
       "      <td>MIM</td>\n",
       "      <td>N</td>\n",
       "      <td>N</td>\n",
       "      <td>N</td>\n",
       "      <td>N</td>\n",
       "      <td>MIM</td>\n",
       "      <td>Y</td>\n",
       "      <td>19763</td>\n",
       "    </tr>\n",
       "    <tr>\n",
       "      <th>10</th>\n",
       "      <td>Diseases or traits associated with this record</td>\n",
       "      <td>Disease/Phenotype</td>\n",
       "      <td>N</td>\n",
       "      <td>N</td>\n",
       "      <td>N</td>\n",
       "      <td>N</td>\n",
       "      <td>DIS</td>\n",
       "      <td>Y</td>\n",
       "      <td>26844</td>\n",
       "    </tr>\n",
       "    <tr>\n",
       "      <th>11</th>\n",
       "      <td>Accession of the genotype/phenotype assertion</td>\n",
       "      <td>ClinVar accession</td>\n",
       "      <td>N</td>\n",
       "      <td>N</td>\n",
       "      <td>N</td>\n",
       "      <td>N</td>\n",
       "      <td>ACCN</td>\n",
       "      <td>Y</td>\n",
       "      <td>440095</td>\n",
       "    </tr>\n",
       "    <tr>\n",
       "      <th>12</th>\n",
       "      <td>Public ID of a variant</td>\n",
       "      <td>External allele ID</td>\n",
       "      <td>N</td>\n",
       "      <td>N</td>\n",
       "      <td>N</td>\n",
       "      <td>N</td>\n",
       "      <td>VRID</td>\n",
       "      <td>Y</td>\n",
       "      <td>368164</td>\n",
       "    </tr>\n",
       "    <tr>\n",
       "      <th>13</th>\n",
       "      <td>Public identifier for a trait (e.g. CUI, HPO)</td>\n",
       "      <td>Trait identifier</td>\n",
       "      <td>N</td>\n",
       "      <td>N</td>\n",
       "      <td>N</td>\n",
       "      <td>N</td>\n",
       "      <td>TRID</td>\n",
       "      <td>Y</td>\n",
       "      <td>19873</td>\n",
       "    </tr>\n",
       "    <tr>\n",
       "      <th>14</th>\n",
       "      <td>Properties of ClinVar record</td>\n",
       "      <td>Properties</td>\n",
       "      <td>N</td>\n",
       "      <td>N</td>\n",
       "      <td>N</td>\n",
       "      <td>N</td>\n",
       "      <td>PROP</td>\n",
       "      <td>Y</td>\n",
       "      <td>68</td>\n",
       "    </tr>\n",
       "    <tr>\n",
       "      <th>15</th>\n",
       "      <td>The date on which this record first appeared</td>\n",
       "      <td>Date created</td>\n",
       "      <td>N</td>\n",
       "      <td>Y</td>\n",
       "      <td>N</td>\n",
       "      <td>N</td>\n",
       "      <td>CDAT</td>\n",
       "      <td>Y</td>\n",
       "      <td>1114</td>\n",
       "    </tr>\n",
       "    <tr>\n",
       "      <th>16</th>\n",
       "      <td>PubMed ids of accessions linked to the record</td>\n",
       "      <td>PubMed ID</td>\n",
       "      <td>N</td>\n",
       "      <td>N</td>\n",
       "      <td>N</td>\n",
       "      <td>Y</td>\n",
       "      <td>PMID</td>\n",
       "      <td>Y</td>\n",
       "      <td>34510</td>\n",
       "    </tr>\n",
       "    <tr>\n",
       "      <th>17</th>\n",
       "      <td>Gene ID</td>\n",
       "      <td>Gene ID</td>\n",
       "      <td>N</td>\n",
       "      <td>N</td>\n",
       "      <td>N</td>\n",
       "      <td>Y</td>\n",
       "      <td>GID</td>\n",
       "      <td>Y</td>\n",
       "      <td>27261</td>\n",
       "    </tr>\n",
       "    <tr>\n",
       "      <th>18</th>\n",
       "      <td>taxonomy id</td>\n",
       "      <td>Taxonomy ID</td>\n",
       "      <td>N</td>\n",
       "      <td>N</td>\n",
       "      <td>N</td>\n",
       "      <td>Y</td>\n",
       "      <td>TID</td>\n",
       "      <td>Y</td>\n",
       "      <td>1</td>\n",
       "    </tr>\n",
       "    <tr>\n",
       "      <th>19</th>\n",
       "      <td>Chromosome base position</td>\n",
       "      <td>Base Position</td>\n",
       "      <td>N</td>\n",
       "      <td>N</td>\n",
       "      <td>N</td>\n",
       "      <td>Y</td>\n",
       "      <td>CPOS</td>\n",
       "      <td>Y</td>\n",
       "      <td>162607</td>\n",
       "    </tr>\n",
       "    <tr>\n",
       "      <th>20</th>\n",
       "      <td>Gene full name</td>\n",
       "      <td>Gene Full Name</td>\n",
       "      <td>N</td>\n",
       "      <td>N</td>\n",
       "      <td>N</td>\n",
       "      <td>N</td>\n",
       "      <td>GFN</td>\n",
       "      <td>Y</td>\n",
       "      <td>37311</td>\n",
       "    </tr>\n",
       "    <tr>\n",
       "      <th>21</th>\n",
       "      <td>Submitter</td>\n",
       "      <td>Submitter</td>\n",
       "      <td>N</td>\n",
       "      <td>N</td>\n",
       "      <td>N</td>\n",
       "      <td>N</td>\n",
       "      <td>SBM</td>\n",
       "      <td>Y</td>\n",
       "      <td>1872</td>\n",
       "    </tr>\n",
       "    <tr>\n",
       "      <th>22</th>\n",
       "      <td>Names used for this allele</td>\n",
       "      <td>Variant name</td>\n",
       "      <td>N</td>\n",
       "      <td>N</td>\n",
       "      <td>N</td>\n",
       "      <td>N</td>\n",
       "      <td>VRNM</td>\n",
       "      <td>Y</td>\n",
       "      <td>2692500</td>\n",
       "    </tr>\n",
       "    <tr>\n",
       "      <th>23</th>\n",
       "      <td>Type of sequence change/variant call</td>\n",
       "      <td>Type of variation</td>\n",
       "      <td>N</td>\n",
       "      <td>N</td>\n",
       "      <td>N</td>\n",
       "      <td>N</td>\n",
       "      <td>VRTP</td>\n",
       "      <td>Y</td>\n",
       "      <td>15</td>\n",
       "    </tr>\n",
       "    <tr>\n",
       "      <th>24</th>\n",
       "      <td>Consequence of the variation at the molecular ...</td>\n",
       "      <td>Molecular consequence</td>\n",
       "      <td>N</td>\n",
       "      <td>N</td>\n",
       "      <td>N</td>\n",
       "      <td>N</td>\n",
       "      <td>MCNS</td>\n",
       "      <td>Y</td>\n",
       "      <td>30</td>\n",
       "    </tr>\n",
       "    <tr>\n",
       "      <th>25</th>\n",
       "      <td>Review status</td>\n",
       "      <td>Review status</td>\n",
       "      <td>N</td>\n",
       "      <td>N</td>\n",
       "      <td>N</td>\n",
       "      <td>N</td>\n",
       "      <td>RVST</td>\n",
       "      <td>Y</td>\n",
       "      <td>7</td>\n",
       "    </tr>\n",
       "    <tr>\n",
       "      <th>26</th>\n",
       "      <td>Unique identifier assigned to a specific seque...</td>\n",
       "      <td>AlleleID</td>\n",
       "      <td>N</td>\n",
       "      <td>N</td>\n",
       "      <td>N</td>\n",
       "      <td>Y</td>\n",
       "      <td>ALID</td>\n",
       "      <td>Y</td>\n",
       "      <td>170734</td>\n",
       "    </tr>\n",
       "    <tr>\n",
       "      <th>27</th>\n",
       "      <td>Origin</td>\n",
       "      <td>Origin</td>\n",
       "      <td>N</td>\n",
       "      <td>N</td>\n",
       "      <td>N</td>\n",
       "      <td>N</td>\n",
       "      <td>ORIG</td>\n",
       "      <td>Y</td>\n",
       "      <td>12</td>\n",
       "    </tr>\n",
       "    <tr>\n",
       "      <th>28</th>\n",
       "      <td>Submitter Batch</td>\n",
       "      <td>Submitter Batch</td>\n",
       "      <td>N</td>\n",
       "      <td>N</td>\n",
       "      <td>N</td>\n",
       "      <td>N</td>\n",
       "      <td>SID</td>\n",
       "      <td>Y</td>\n",
       "      <td>892</td>\n",
       "    </tr>\n",
       "    <tr>\n",
       "      <th>29</th>\n",
       "      <td>Cytogenetic location computed from sequence co...</td>\n",
       "      <td>Cytogenetic band</td>\n",
       "      <td>N</td>\n",
       "      <td>N</td>\n",
       "      <td>N</td>\n",
       "      <td>N</td>\n",
       "      <td>CYT</td>\n",
       "      <td>Y</td>\n",
       "      <td>3278</td>\n",
       "    </tr>\n",
       "    <tr>\n",
       "      <th>30</th>\n",
       "      <td>Accession for a test registered in GTR</td>\n",
       "      <td>Accession for a test registered in GTR</td>\n",
       "      <td>N</td>\n",
       "      <td>N</td>\n",
       "      <td>N</td>\n",
       "      <td>N</td>\n",
       "      <td>GTRT</td>\n",
       "      <td>Y</td>\n",
       "      <td>170</td>\n",
       "    </tr>\n",
       "    <tr>\n",
       "      <th>31</th>\n",
       "      <td>Study Name</td>\n",
       "      <td>Study Name</td>\n",
       "      <td>N</td>\n",
       "      <td>N</td>\n",
       "      <td>N</td>\n",
       "      <td>N</td>\n",
       "      <td>STNM</td>\n",
       "      <td>Y</td>\n",
       "      <td>394</td>\n",
       "    </tr>\n",
       "    <tr>\n",
       "      <th>32</th>\n",
       "      <td>Complexity</td>\n",
       "      <td>Complexity</td>\n",
       "      <td>N</td>\n",
       "      <td>N</td>\n",
       "      <td>N</td>\n",
       "      <td>N</td>\n",
       "      <td>CMPL</td>\n",
       "      <td>Y</td>\n",
       "      <td>6</td>\n",
       "    </tr>\n",
       "    <tr>\n",
       "      <th>33</th>\n",
       "      <td>Chromosome base position for assembly GRCh37</td>\n",
       "      <td>Base Position for Assembly GRCh37</td>\n",
       "      <td>N</td>\n",
       "      <td>N</td>\n",
       "      <td>N</td>\n",
       "      <td>Y</td>\n",
       "      <td>C37</td>\n",
       "      <td>Y</td>\n",
       "      <td>152076</td>\n",
       "    </tr>\n",
       "    <tr>\n",
       "      <th>34</th>\n",
       "      <td>Length of the variant defined as the differenc...</td>\n",
       "      <td>Length of the variant</td>\n",
       "      <td>N</td>\n",
       "      <td>N</td>\n",
       "      <td>N</td>\n",
       "      <td>Y</td>\n",
       "      <td>VLEN</td>\n",
       "      <td>Y</td>\n",
       "      <td>13798</td>\n",
       "    </tr>\n",
       "    <tr>\n",
       "      <th>35</th>\n",
       "      <td>Nucleotide or protein accession</td>\n",
       "      <td>Nucleotide/Protein Accession</td>\n",
       "      <td>N</td>\n",
       "      <td>N</td>\n",
       "      <td>N</td>\n",
       "      <td>N</td>\n",
       "      <td>ACCN</td>\n",
       "      <td>Y</td>\n",
       "      <td>41853</td>\n",
       "    </tr>\n",
       "    <tr>\n",
       "      <th>36</th>\n",
       "      <td>Identifier for Gene assigned by HUGO Gene Nome...</td>\n",
       "      <td>HGNC identifier for human gene</td>\n",
       "      <td>N</td>\n",
       "      <td>N</td>\n",
       "      <td>N</td>\n",
       "      <td>N</td>\n",
       "      <td>HGNC</td>\n",
       "      <td>Y</td>\n",
       "      <td>49960</td>\n",
       "    </tr>\n",
       "    <tr>\n",
       "      <th>37</th>\n",
       "      <td>Unique number assigned to variation</td>\n",
       "      <td>Variation ID</td>\n",
       "      <td>N</td>\n",
       "      <td>N</td>\n",
       "      <td>N</td>\n",
       "      <td>Y</td>\n",
       "      <td>VID</td>\n",
       "      <td>Y</td>\n",
       "      <td>170659</td>\n",
       "    </tr>\n",
       "    <tr>\n",
       "      <th>38</th>\n",
       "      <td>The latest date for each interpretation of a v...</td>\n",
       "      <td>Date last interpreted</td>\n",
       "      <td>N</td>\n",
       "      <td>Y</td>\n",
       "      <td>N</td>\n",
       "      <td>N</td>\n",
       "      <td>IMOD</td>\n",
       "      <td>Y</td>\n",
       "      <td>4532</td>\n",
       "    </tr>\n",
       "  </tbody>\n",
       "</table>\n",
       "</div>"
      ],
      "text/plain": [
       "                                          Description  \\\n",
       "0                All terms from all searchable fields   \n",
       "1                 Unique number assigned to variation   \n",
       "2                                  Limits the records   \n",
       "3        Constructed from variant and phenotype names   \n",
       "4                    Free text associated with record   \n",
       "5             scientific and common names of organism   \n",
       "6       The last date on which the record was updated   \n",
       "7   Chromosome number or numbers; also 'mitochondr...   \n",
       "8                       Symbol or symbols of the gene   \n",
       "9                                MIM number from OMIM   \n",
       "10     Diseases or traits associated with this record   \n",
       "11      Accession of the genotype/phenotype assertion   \n",
       "12                             Public ID of a variant   \n",
       "13      Public identifier for a trait (e.g. CUI, HPO)   \n",
       "14                       Properties of ClinVar record   \n",
       "15       The date on which this record first appeared   \n",
       "16      PubMed ids of accessions linked to the record   \n",
       "17                                            Gene ID   \n",
       "18                                        taxonomy id   \n",
       "19                           Chromosome base position   \n",
       "20                                     Gene full name   \n",
       "21                                          Submitter   \n",
       "22                         Names used for this allele   \n",
       "23               Type of sequence change/variant call   \n",
       "24  Consequence of the variation at the molecular ...   \n",
       "25                                      Review status   \n",
       "26  Unique identifier assigned to a specific seque...   \n",
       "27                                             Origin   \n",
       "28                                    Submitter Batch   \n",
       "29  Cytogenetic location computed from sequence co...   \n",
       "30             Accession for a test registered in GTR   \n",
       "31                                         Study Name   \n",
       "32                                         Complexity   \n",
       "33       Chromosome base position for assembly GRCh37   \n",
       "34  Length of the variant defined as the differenc...   \n",
       "35                    Nucleotide or protein accession   \n",
       "36  Identifier for Gene assigned by HUGO Gene Nome...   \n",
       "37                Unique number assigned to variation   \n",
       "38  The latest date for each interpretation of a v...   \n",
       "\n",
       "                                  FullName Hierarchy IsDate IsHidden  \\\n",
       "0                               All Fields         N      N        N   \n",
       "1                                      UID         N      N        Y   \n",
       "2                                   Filter         N      N        N   \n",
       "3               Name of the ClinVar record         N      N        N   \n",
       "4                                Text Word         N      N        N   \n",
       "5                                 Organism         Y      N        N   \n",
       "6                            Date modified         N      Y        N   \n",
       "7                               Chromosome         N      N        N   \n",
       "8                                Gene Name         N      N        N   \n",
       "9                                      MIM         N      N        N   \n",
       "10                       Disease/Phenotype         N      N        N   \n",
       "11                       ClinVar accession         N      N        N   \n",
       "12                      External allele ID         N      N        N   \n",
       "13                        Trait identifier         N      N        N   \n",
       "14                              Properties         N      N        N   \n",
       "15                            Date created         N      Y        N   \n",
       "16                               PubMed ID         N      N        N   \n",
       "17                                 Gene ID         N      N        N   \n",
       "18                             Taxonomy ID         N      N        N   \n",
       "19                           Base Position         N      N        N   \n",
       "20                          Gene Full Name         N      N        N   \n",
       "21                               Submitter         N      N        N   \n",
       "22                            Variant name         N      N        N   \n",
       "23                       Type of variation         N      N        N   \n",
       "24                   Molecular consequence         N      N        N   \n",
       "25                           Review status         N      N        N   \n",
       "26                                AlleleID         N      N        N   \n",
       "27                                  Origin         N      N        N   \n",
       "28                         Submitter Batch         N      N        N   \n",
       "29                        Cytogenetic band         N      N        N   \n",
       "30  Accession for a test registered in GTR         N      N        N   \n",
       "31                              Study Name         N      N        N   \n",
       "32                              Complexity         N      N        N   \n",
       "33       Base Position for Assembly GRCh37         N      N        N   \n",
       "34                   Length of the variant         N      N        N   \n",
       "35            Nucleotide/Protein Accession         N      N        N   \n",
       "36          HGNC identifier for human gene         N      N        N   \n",
       "37                            Variation ID         N      N        N   \n",
       "38                   Date last interpreted         N      Y        N   \n",
       "\n",
       "   IsNumerical  Name SingleToken TermCount  \n",
       "0            N   ALL           N   4833446  \n",
       "1            Y   UID           Y         0  \n",
       "2            N  FILT           Y        58  \n",
       "3            N  TITL           Y    390105  \n",
       "4            N  WORD           Y   2474054  \n",
       "5            N  ORGN           Y         1  \n",
       "6            N  MDAT           Y        95  \n",
       "7            N   CHR           Y        26  \n",
       "8            N  GENE           Y     27286  \n",
       "9            N   MIM           Y     19763  \n",
       "10           N   DIS           Y     26844  \n",
       "11           N  ACCN           Y    440095  \n",
       "12           N  VRID           Y    368164  \n",
       "13           N  TRID           Y     19873  \n",
       "14           N  PROP           Y        68  \n",
       "15           N  CDAT           Y      1114  \n",
       "16           Y  PMID           Y     34510  \n",
       "17           Y   GID           Y     27261  \n",
       "18           Y   TID           Y         1  \n",
       "19           Y  CPOS           Y    162607  \n",
       "20           N   GFN           Y     37311  \n",
       "21           N   SBM           Y      1872  \n",
       "22           N  VRNM           Y   2692500  \n",
       "23           N  VRTP           Y        15  \n",
       "24           N  MCNS           Y        30  \n",
       "25           N  RVST           Y         7  \n",
       "26           Y  ALID           Y    170734  \n",
       "27           N  ORIG           Y        12  \n",
       "28           N   SID           Y       892  \n",
       "29           N   CYT           Y      3278  \n",
       "30           N  GTRT           Y       170  \n",
       "31           N  STNM           Y       394  \n",
       "32           N  CMPL           Y         6  \n",
       "33           Y   C37           Y    152076  \n",
       "34           Y  VLEN           Y     13798  \n",
       "35           N  ACCN           Y     41853  \n",
       "36           N  HGNC           Y     49960  \n",
       "37           Y   VID           Y    170659  \n",
       "38           N  IMOD           Y      4532  "
      ]
     },
     "execution_count": 13,
     "metadata": {},
     "output_type": "execute_result"
    }
   ],
   "source": [
    "pd.DataFrame( info_records['DbInfo']['FieldList'] )"
   ]
  },
  {
   "cell_type": "code",
   "execution_count": 14,
   "metadata": {
    "collapsed": false
   },
   "outputs": [
    {
     "data": {
      "text/plain": [
       "'clinvar'"
      ]
     },
     "execution_count": 14,
     "metadata": {},
     "output_type": "execute_result"
    }
   ],
   "source": [
    "info_records['DbInfo']['DbName']"
   ]
  },
  {
   "cell_type": "markdown",
   "metadata": {},
   "source": [
    "### ESummary"
   ]
  },
  {
   "cell_type": "markdown",
   "metadata": {},
   "source": [
    "### ESearch"
   ]
  },
  {
   "cell_type": "markdown",
   "metadata": {},
   "source": [
    "### EPost"
   ]
  },
  {
   "cell_type": "markdown",
   "metadata": {},
   "source": [
    "### EFetch"
   ]
  },
  {
   "cell_type": "markdown",
   "metadata": {},
   "source": [
    "### ELink"
   ]
  }
 ],
 "metadata": {
  "kernelspec": {
   "display_name": "Python 3",
   "language": "python",
   "name": "python3"
  },
  "language_info": {
   "codemirror_mode": {
    "name": "ipython",
    "version": 3
   },
   "file_extension": ".py",
   "mimetype": "text/x-python",
   "name": "python",
   "nbconvert_exporter": "python",
   "pygments_lexer": "ipython3",
   "version": "3.5.2"
  }
 },
 "nbformat": 4,
 "nbformat_minor": 0
}
